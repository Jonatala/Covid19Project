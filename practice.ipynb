{
  "nbformat": 4,
  "nbformat_minor": 0,
  "metadata": {
    "colab": {
      "provenance": [],
      "authorship_tag": "ABX9TyMApbAtYTFMK4XMgCZXl6xD",
      "include_colab_link": true
    },
    "kernelspec": {
      "name": "python3",
      "display_name": "Python 3"
    },
    "language_info": {
      "name": "python"
    }
  },
  "cells": [
    {
      "cell_type": "markdown",
      "metadata": {
        "id": "view-in-github",
        "colab_type": "text"
      },
      "source": [
        "<a href=\"https://colab.research.google.com/github/Jonatala/Covid19Project/blob/training/practice.ipynb\" target=\"_parent\"><img src=\"https://colab.research.google.com/assets/colab-badge.svg\" alt=\"Open In Colab\"/></a>"
      ]
    },
    {
      "cell_type": "code",
      "execution_count": 1,
      "metadata": {
        "id": "9u4X2xOcCspP"
      },
      "outputs": [],
      "source": [
        "num1 = [2, 3, 4]\n",
        "num2 = [10, 20, 30]"
      ]
    },
    {
      "cell_type": "code",
      "source": [
        "output = []\n",
        "for x in num1:\n",
        "  for y in num2:\n",
        "    output.append(x*y)"
      ],
      "metadata": {
        "id": "FxxunXYQD5j3"
      },
      "execution_count": 2,
      "outputs": []
    },
    {
      "cell_type": "code",
      "source": [
        "output"
      ],
      "metadata": {
        "colab": {
          "base_uri": "https://localhost:8080/"
        },
        "id": "f02n3FQIEZxk",
        "outputId": "d787d5d7-70db-4cbd-a2b8-6010b2b42372"
      },
      "execution_count": 3,
      "outputs": [
        {
          "output_type": "execute_result",
          "data": {
            "text/plain": [
              "[20, 40, 60, 30, 60, 90, 40, 80, 120]"
            ]
          },
          "metadata": {},
          "execution_count": 3
        }
      ]
    },
    {
      "cell_type": "code",
      "source": [
        "\n",
        "FN = input(\"first name: \")\n",
        "Age = input(\"Enter your age: \")\n",
        "print(f'{FN}, you are {Age} years old')"
      ],
      "metadata": {
        "id": "tiqSB_fNRpiK",
        "colab": {
          "base_uri": "https://localhost:8080/"
        },
        "outputId": "3160446e-dcd0-434e-c233-b9b21a14bd06"
      },
      "execution_count": 4,
      "outputs": [
        {
          "output_type": "stream",
          "name": "stdout",
          "text": [
            "first name: g\n",
            "Enter your age: j\n",
            "g, you are j years old\n"
          ]
        }
      ]
    },
    {
      "cell_type": "code",
      "source": [
        "print(FN, 'you are', Age, 'years old')"
      ],
      "metadata": {
        "colab": {
          "base_uri": "https://localhost:8080/"
        },
        "id": "YoM3LutcNGUp",
        "outputId": "2e434c9b-1ab0-4286-ddc8-e813ec8aded1"
      },
      "execution_count": 5,
      "outputs": [
        {
          "output_type": "stream",
          "name": "stdout",
          "text": [
            "g you are j years old\n"
          ]
        }
      ]
    },
    {
      "cell_type": "code",
      "source": [
        "my_set = {5, 6, 7}"
      ],
      "metadata": {
        "id": "dIinh1u-QlGL"
      },
      "execution_count": 6,
      "outputs": []
    },
    {
      "cell_type": "code",
      "source": [
        "my_set.add(8)"
      ],
      "metadata": {
        "id": "Pp0I_3n3Quuy"
      },
      "execution_count": 7,
      "outputs": []
    },
    {
      "cell_type": "code",
      "source": [
        "my_set"
      ],
      "metadata": {
        "colab": {
          "base_uri": "https://localhost:8080/"
        },
        "id": "OAKse00wQ626",
        "outputId": "d6acbec8-fe11-4dcd-b3d9-54a060f877df"
      },
      "execution_count": 8,
      "outputs": [
        {
          "output_type": "execute_result",
          "data": {
            "text/plain": [
              "{5, 6, 7, 8}"
            ]
          },
          "metadata": {},
          "execution_count": 8
        }
      ]
    },
    {
      "cell_type": "code",
      "source": [
        "FN.split('a')"
      ],
      "metadata": {
        "colab": {
          "base_uri": "https://localhost:8080/"
        },
        "id": "ZgMF1RwhS49L",
        "outputId": "9f73db16-93d2-40b8-e9b4-34b9d1bf0333"
      },
      "execution_count": 9,
      "outputs": [
        {
          "output_type": "execute_result",
          "data": {
            "text/plain": [
              "['g']"
            ]
          },
          "metadata": {},
          "execution_count": 9
        }
      ]
    },
    {
      "cell_type": "code",
      "source": [
        "dict1 = {'Ten' : 10, 'Twenty' : 20, 'Thirty': 30}\n",
        "dict2 = {'Thirty' : 30, 'Fourty' : 40, 'Fifty' : 50}"
      ],
      "metadata": {
        "id": "ki2nABbuS44a"
      },
      "execution_count": 10,
      "outputs": []
    },
    {
      "cell_type": "code",
      "source": [
        "dict1.update(dict2)"
      ],
      "metadata": {
        "id": "kMh-XAMoS4xz"
      },
      "execution_count": 11,
      "outputs": []
    },
    {
      "cell_type": "code",
      "source": [
        "dict1"
      ],
      "metadata": {
        "colab": {
          "base_uri": "https://localhost:8080/"
        },
        "id": "VcLh8jNPEbd6",
        "outputId": "df0c0fd6-717b-4613-8bd0-35e68219606d"
      },
      "execution_count": 12,
      "outputs": [
        {
          "output_type": "execute_result",
          "data": {
            "text/plain": [
              "{'Ten': 10, 'Twenty': 20, 'Thirty': 30, 'Fourty': 40, 'Fifty': 50}"
            ]
          },
          "metadata": {},
          "execution_count": 12
        }
      ]
    },
    {
      "cell_type": "code",
      "source": [
        "dict1.keys()"
      ],
      "metadata": {
        "colab": {
          "base_uri": "https://localhost:8080/"
        },
        "id": "BxXsYuOvHqxd",
        "outputId": "b09bebce-3962-4579-f79d-98b3decddcdd"
      },
      "execution_count": 13,
      "outputs": [
        {
          "output_type": "execute_result",
          "data": {
            "text/plain": [
              "dict_keys(['Ten', 'Twenty', 'Thirty', 'Fourty', 'Fifty'])"
            ]
          },
          "metadata": {},
          "execution_count": 13
        }
      ]
    },
    {
      "cell_type": "code",
      "source": [
        "dict3 = {'Ten' : 10, 'Twenty' : 20, 'Thirty': 30}\n",
        "dict4 = {'Thirty' : 30, 'Fourty' : 40, 'Fifty' : 50}"
      ],
      "metadata": {
        "id": "LLRunbZGaggg"
      },
      "execution_count": 16,
      "outputs": []
    },
    {
      "cell_type": "code",
      "source": [
        "for key in dict4.keys():\n",
        "  dict3[key] = dict4[key]"
      ],
      "metadata": {
        "id": "ubAk4NWuZ6Rr"
      },
      "execution_count": 23,
      "outputs": []
    },
    {
      "cell_type": "code",
      "source": [
        "dict3"
      ],
      "metadata": {
        "colab": {
          "base_uri": "https://localhost:8080/"
        },
        "id": "z8xTdhWaaTH7",
        "outputId": "367a3008-6f75-4e7f-dbdb-c14eb8801f74"
      },
      "execution_count": 24,
      "outputs": [
        {
          "output_type": "execute_result",
          "data": {
            "text/plain": [
              "{'Ten': 10, 'Twenty': 20, 'Thirty': 30, 'Fourty': 40, 'Fifty': 50, 'Sixty': 60}"
            ]
          },
          "metadata": {},
          "execution_count": 24
        }
      ]
    },
    {
      "cell_type": "code",
      "source": [
        "dict4[key]"
      ],
      "metadata": {
        "colab": {
          "base_uri": "https://localhost:8080/"
        },
        "id": "ZtUkU8XtaTDZ",
        "outputId": "504449af-ad73-4bee-cb1e-93d876673963"
      },
      "execution_count": 19,
      "outputs": [
        {
          "output_type": "execute_result",
          "data": {
            "text/plain": [
              "50"
            ]
          },
          "metadata": {},
          "execution_count": 19
        }
      ]
    },
    {
      "cell_type": "code",
      "source": [
        "dict3['Sixty'] = 60"
      ],
      "metadata": {
        "id": "0MuRbvSqaS-W"
      },
      "execution_count": 22,
      "outputs": []
    },
    {
      "cell_type": "code",
      "source": [
        "for key in dict4.keys():\n",
        "  print(key)"
      ],
      "metadata": {
        "colab": {
          "base_uri": "https://localhost:8080/"
        },
        "id": "uy8rsJOLaS5X",
        "outputId": "4a7f70de-6b42-4561-9b28-1eb826effaae"
      },
      "execution_count": 25,
      "outputs": [
        {
          "output_type": "stream",
          "name": "stdout",
          "text": [
            "Thirty\n",
            "Fourty\n",
            "Fifty\n"
          ]
        }
      ]
    },
    {
      "cell_type": "code",
      "source": [
        "sample_dict = {\n",
        "    'emp1': {'name' : 'john', 'salary' : 7500},\n",
        "    'emp2': {'name' : 'emma', 'salary' : 8000},\n",
        "    'emp3': {'name' : 'Brad', 'salary' : 500}\n",
        "}"
      ],
      "metadata": {
        "id": "jzpTU51HhWIb"
      },
      "execution_count": 27,
      "outputs": []
    },
    {
      "cell_type": "code",
      "source": [
        "sample_dict['emp3']['salary'] = 8500"
      ],
      "metadata": {
        "id": "45vXwNF-hWB5"
      },
      "execution_count": 32,
      "outputs": []
    },
    {
      "cell_type": "code",
      "source": [
        "sample_dict"
      ],
      "metadata": {
        "colab": {
          "base_uri": "https://localhost:8080/"
        },
        "id": "ZsZ5Qd8phV5I",
        "outputId": "7a0c58e8-9a15-4731-8231-f9bf86c726bd"
      },
      "execution_count": 33,
      "outputs": [
        {
          "output_type": "execute_result",
          "data": {
            "text/plain": [
              "{'emp1': {'name': 'john', 'salary': 7500},\n",
              " 'emp2': {'name': 'emma', 'salary': 8000},\n",
              " 'emp3': {'name': 'Brad', 'salary': 8500}}"
            ]
          },
          "metadata": {},
          "execution_count": 33
        }
      ]
    },
    {
      "cell_type": "code",
      "source": [
        "num = int(input())\n"
      ],
      "metadata": {
        "colab": {
          "base_uri": "https://localhost:8080/"
        },
        "id": "bLZBbQ0uhVru",
        "outputId": "7fe8f9a2-3980-4dc9-be2f-a39f6eb58893"
      },
      "execution_count": 48,
      "outputs": [
        {
          "name": "stdout",
          "output_type": "stream",
          "text": [
            "12\n"
          ]
        }
      ]
    },
    {
      "cell_type": "code",
      "source": [
        "for i in range(1, num +1):\n",
        "  print(f'current number is : {i} and the cube is {i**3}')"
      ],
      "metadata": {
        "colab": {
          "base_uri": "https://localhost:8080/"
        },
        "id": "3ksYYChvkwqQ",
        "outputId": "080bf824-a825-43a2-fbd4-e754afcd0307"
      },
      "execution_count": 49,
      "outputs": [
        {
          "output_type": "stream",
          "name": "stdout",
          "text": [
            "current number is : 1 and the cube is 1\n",
            "current number is : 2 and the cube is 8\n",
            "current number is : 3 and the cube is 27\n",
            "current number is : 4 and the cube is 64\n",
            "current number is : 5 and the cube is 125\n",
            "current number is : 6 and the cube is 216\n",
            "current number is : 7 and the cube is 343\n",
            "current number is : 8 and the cube is 512\n",
            "current number is : 9 and the cube is 729\n",
            "current number is : 10 and the cube is 1000\n",
            "current number is : 11 and the cube is 1331\n",
            "current number is : 12 and the cube is 1728\n"
          ]
        }
      ]
    },
    {
      "cell_type": "code",
      "source": [
        "def myname(name):\n",
        "  print(name.upper())"
      ],
      "metadata": {
        "id": "Xgn5_ZYzo9lR"
      },
      "execution_count": 64,
      "outputs": []
    },
    {
      "cell_type": "code",
      "source": [
        "myname('david')"
      ],
      "metadata": {
        "colab": {
          "base_uri": "https://localhost:8080/"
        },
        "id": "TQpleLdTphh8",
        "outputId": "c0fa5501-3335-4d2d-e94b-2eb8748502fe"
      },
      "execution_count": 65,
      "outputs": [
        {
          "output_type": "stream",
          "name": "stdout",
          "text": [
            "DAVID\n"
          ]
        }
      ]
    },
    {
      "cell_type": "code",
      "source": [
        "gen = (i ** 2 for i in range(5))"
      ],
      "metadata": {
        "id": "eM1uPZa7phdm"
      },
      "execution_count": 67,
      "outputs": []
    },
    {
      "cell_type": "code",
      "source": [
        "next(gen)"
      ],
      "metadata": {
        "colab": {
          "base_uri": "https://localhost:8080/"
        },
        "id": "aRVlMFLmphYz",
        "outputId": "c0bd2dbd-61f6-4cfb-ef6d-fd252e33866a"
      },
      "execution_count": 74,
      "outputs": [
        {
          "output_type": "execute_result",
          "data": {
            "text/plain": [
              "16"
            ]
          },
          "metadata": {},
          "execution_count": 74
        }
      ]
    },
    {
      "cell_type": "code",
      "source": [],
      "metadata": {
        "id": "x8gbDSK-phUL"
      },
      "execution_count": null,
      "outputs": []
    },
    {
      "cell_type": "code",
      "source": [],
      "metadata": {
        "id": "r_CYsDMHphME"
      },
      "execution_count": null,
      "outputs": []
    }
  ]
}